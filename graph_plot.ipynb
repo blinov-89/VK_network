{
 "cells": [
  {
   "cell_type": "code",
   "execution_count": 180,
   "id": "41d5b563",
   "metadata": {},
   "outputs": [],
   "source": [
    "import pandas as pd\n",
    "import matplotlib.pyplot as plt\n",
    "import networkx as nx"
   ]
  },
  {
   "cell_type": "code",
   "execution_count": 181,
   "id": "84d4faa9",
   "metadata": {},
   "outputs": [],
   "source": [
    "BASE_DIR = r'./'\n",
    "data_file_name = 'graph_plot_data.csv'\n",
    "\n",
    "SEED = 1"
   ]
  },
  {
   "cell_type": "code",
   "execution_count": 182,
   "id": "6f4181b2",
   "metadata": {},
   "outputs": [],
   "source": [
    "# graph heat map styles\n",
    "heat_map_style_dict = {}\n",
    "heat_map_style_dict[0] = {\n",
    "    'edge_color': 'b',\n",
    "    'style': 'solid',\n",
    "    'alpha': 0.75,\n",
    "    'width': 2\n",
    "}\n",
    "heat_map_style_dict[1] = {\n",
    "    'edge_color': 'g',\n",
    "    'style': 'solid',\n",
    "    'alpha': 0.5,\n",
    "    'width': 4\n",
    "}\n",
    "heat_map_style_dict[2] = {\n",
    "    'edge_color': 'y',\n",
    "    'style': 'solid',\n",
    "    'alpha': 0.25,\n",
    "    'width': 6\n",
    "}\n",
    "heat_map_style_dict[3] = {\n",
    "    'edge_color': 'r',\n",
    "    'style': 'solid',\n",
    "    'alpha': 1,\n",
    "    'width': 8\n",
    "}"
   ]
  },
  {
   "cell_type": "code",
   "execution_count": 183,
   "id": "f25941b5",
   "metadata": {},
   "outputs": [],
   "source": [
    "# val: 0 исключаем предпроверкой\n",
    "def which_quartile(val, qu_list):\n",
    "    for i, qu_val in enumerate(qu_list):\n",
    "        if val <= qu_val:\n",
    "            # i-1 for convinient usage\n",
    "            return i-1\n",
    "\n",
    "def plot_graph(df_graph_data, graph_style_dict, seed=SEED):\n",
    "    G = nx.Graph()\n",
    "\n",
    "    [G.add_edge(u, v, weight=round(x1,4)) for u, v, x1 in zip(df_graph_data['u'],\n",
    "                                    df_graph_data['v'], df_graph_data['x1']) if x1>0]\n",
    "\n",
    "    # extra 0 to simplify which_quartile function\n",
    "    qu_list = list(df_graph_data.x1.quantile(q=[0, .25, .5, .75, 1]))\n",
    "    \n",
    "    e = []\n",
    "    for _ in range(4):\n",
    "        e.append([(u, v) for (u, v, d) in G.edges(data=True) if which_quartile(d[\"weight\"], qu_list)==_])\n",
    "    \n",
    "    # prod output on kaggle (needs more dependencies on local windows)\n",
    "    #pos = nx.nx_pydot.graphviz_layout(G, prog=\"neato\", root=0)\n",
    "    \n",
    "    # fallback replacement for working solution\n",
    "    pos = nx.circular_layout(G)\n",
    "\n",
    "    # nodes\n",
    "    nx.draw_networkx_nodes(G, pos, node_color=\"lightblue\", node_size=500)\n",
    "\n",
    "    # edges\n",
    "    [nx.draw_networkx_edges(G, pos, edgelist=e_qu_list, **graph_style_dict[i])\n",
    "     for i, e_qu_list in enumerate(e)]\n",
    "\n",
    "    nx.draw_networkx_labels(G, pos, font_size=12, font_family=\"sans-serif\")\n",
    "    nx.draw_networkx_edge_labels(G, pos, edge_labels={(u, v): '>0' \n",
    "                                                      if round(d[\"weight\"], 2)==0\n",
    "                                                      else round(d[\"weight\"], 2)\n",
    "                                                      for u, v, d in G.edges(data=True)}\n",
    "                                )\n",
    "\n",
    "    fig = plt.figure(1, figsize=(100, 500), dpi=60)\n",
    "    plt.axis(\"off\")\n",
    "    plt.title('Типовой граф для конкретного ego_id', fontweight='bold')\n",
    "    plt.legend(['вершина\\nграфа', r'$0<{x_1}{\\leq}Q_{1}$', r'$Q_{1}<x_1{\\leq}Q_{2}$',\n",
    "                r'$Q_{2}<x_1{\\leq}Q_{3}$', r'$Q_{3}<x_1$'], loc='lower left')\n",
    "    plt.show()"
   ]
  },
  {
   "cell_type": "code",
   "execution_count": 184,
   "id": "798cad3d",
   "metadata": {},
   "outputs": [
    {
     "data": {
      "text/html": [
       "<div>\n",
       "<style scoped>\n",
       "    .dataframe tbody tr th:only-of-type {\n",
       "        vertical-align: middle;\n",
       "    }\n",
       "\n",
       "    .dataframe tbody tr th {\n",
       "        vertical-align: top;\n",
       "    }\n",
       "\n",
       "    .dataframe thead th {\n",
       "        text-align: right;\n",
       "    }\n",
       "</style>\n",
       "<table border=\"1\" class=\"dataframe\">\n",
       "  <thead>\n",
       "    <tr style=\"text-align: right;\">\n",
       "      <th></th>\n",
       "      <th>u</th>\n",
       "      <th>v</th>\n",
       "      <th>x1</th>\n",
       "    </tr>\n",
       "  </thead>\n",
       "  <tbody>\n",
       "    <tr>\n",
       "      <th>0</th>\n",
       "      <td>0</td>\n",
       "      <td>1</td>\n",
       "      <td>1.304720</td>\n",
       "    </tr>\n",
       "    <tr>\n",
       "      <th>1</th>\n",
       "      <td>0</td>\n",
       "      <td>4</td>\n",
       "      <td>0.420411</td>\n",
       "    </tr>\n",
       "    <tr>\n",
       "      <th>2</th>\n",
       "      <td>0</td>\n",
       "      <td>5</td>\n",
       "      <td>0.355491</td>\n",
       "    </tr>\n",
       "    <tr>\n",
       "      <th>3</th>\n",
       "      <td>0</td>\n",
       "      <td>10</td>\n",
       "      <td>0.000000</td>\n",
       "    </tr>\n",
       "    <tr>\n",
       "      <th>4</th>\n",
       "      <td>0</td>\n",
       "      <td>12</td>\n",
       "      <td>0.000494</td>\n",
       "    </tr>\n",
       "  </tbody>\n",
       "</table>\n",
       "</div>"
      ],
      "text/plain": [
       "   u   v        x1\n",
       "0  0   1  1.304720\n",
       "1  0   4  0.420411\n",
       "2  0   5  0.355491\n",
       "3  0  10  0.000000\n",
       "4  0  12  0.000494"
      ]
     },
     "execution_count": 184,
     "metadata": {},
     "output_type": "execute_result"
    }
   ],
   "source": [
    "# load data\n",
    "df_graph = pd.read_csv(f'{BASE_DIR}{data_file_name}')\n",
    "df_graph.head()"
   ]
  },
  {
   "cell_type": "code",
   "execution_count": 185,
   "id": "bcdc8719",
   "metadata": {},
   "outputs": [
    {
     "data": {
      "text/html": [
       "<div>\n",
       "<style scoped>\n",
       "    .dataframe tbody tr th:only-of-type {\n",
       "        vertical-align: middle;\n",
       "    }\n",
       "\n",
       "    .dataframe tbody tr th {\n",
       "        vertical-align: top;\n",
       "    }\n",
       "\n",
       "    .dataframe thead th {\n",
       "        text-align: right;\n",
       "    }\n",
       "</style>\n",
       "<table border=\"1\" class=\"dataframe\">\n",
       "  <thead>\n",
       "    <tr style=\"text-align: right;\">\n",
       "      <th></th>\n",
       "      <th>u</th>\n",
       "      <th>v</th>\n",
       "      <th>x1</th>\n",
       "    </tr>\n",
       "  </thead>\n",
       "  <tbody>\n",
       "    <tr>\n",
       "      <th>0</th>\n",
       "      <td>0</td>\n",
       "      <td>1</td>\n",
       "      <td>1.304720</td>\n",
       "    </tr>\n",
       "    <tr>\n",
       "      <th>1</th>\n",
       "      <td>0</td>\n",
       "      <td>4</td>\n",
       "      <td>0.420411</td>\n",
       "    </tr>\n",
       "    <tr>\n",
       "      <th>2</th>\n",
       "      <td>0</td>\n",
       "      <td>5</td>\n",
       "      <td>0.355491</td>\n",
       "    </tr>\n",
       "    <tr>\n",
       "      <th>4</th>\n",
       "      <td>0</td>\n",
       "      <td>12</td>\n",
       "      <td>0.000494</td>\n",
       "    </tr>\n",
       "    <tr>\n",
       "      <th>6</th>\n",
       "      <td>0</td>\n",
       "      <td>14</td>\n",
       "      <td>0.000066</td>\n",
       "    </tr>\n",
       "  </tbody>\n",
       "</table>\n",
       "</div>"
      ],
      "text/plain": [
       "   u   v        x1\n",
       "0  0   1  1.304720\n",
       "1  0   4  0.420411\n",
       "2  0   5  0.355491\n",
       "4  0  12  0.000494\n",
       "6  0  14  0.000066"
      ]
     },
     "execution_count": 185,
     "metadata": {},
     "output_type": "execute_result"
    }
   ],
   "source": [
    "# preprocess data\n",
    "df_graph=df_graph[df_graph.x1!=0]\n",
    "df_graph.head()"
   ]
  },
  {
   "cell_type": "code",
   "execution_count": 186,
   "id": "e96cf09c",
   "metadata": {},
   "outputs": [
    {
     "data": {
      "image/png": "[encoded data removed]",
      "text/plain": [
       "<Figure size 432x288 with 1 Axes>"
      ]
     },
     "metadata": {},
     "output_type": "display_data"
    }
   ],
   "source": [
    "plot_graph(df_graph, heat_map_style_dict)"
   ]
  }
 ],
 "metadata": {
  "kernelspec": {
   "display_name": "Python 3 (ipykernel)",
   "language": "python",
   "name": "python3"
  },
  "language_info": {
   "codemirror_mode": {
    "name": "ipython",
    "version": 3
   },
   "file_extension": ".py",
   "mimetype": "text/x-python",
   "name": "python",
   "nbconvert_exporter": "python",
   "pygments_lexer": "ipython3",
   "version": "3.9.7"
  }
 },
 "nbformat": 4,
 "nbformat_minor": 5
}
